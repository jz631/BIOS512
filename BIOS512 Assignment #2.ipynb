{
 "cells": [
  {
   "cell_type": "code",
   "execution_count": 1,
   "metadata": {},
   "outputs": [
    {
     "name": "stderr",
     "output_type": "stream",
     "text": [
      "── \u001b[1mAttaching packages\u001b[22m ─────────────────────────────────────── tidyverse 1.2.1 ──\n",
      "\n",
      "\u001b[32m✔\u001b[39m \u001b[34mggplot2\u001b[39m 3.2.0     \u001b[32m✔\u001b[39m \u001b[34mpurrr  \u001b[39m 0.3.2\n",
      "\u001b[32m✔\u001b[39m \u001b[34mtibble \u001b[39m 2.1.3     \u001b[32m✔\u001b[39m \u001b[34mdplyr  \u001b[39m 0.8.3\n",
      "\u001b[32m✔\u001b[39m \u001b[34mtidyr  \u001b[39m 0.8.3     \u001b[32m✔\u001b[39m \u001b[34mstringr\u001b[39m 1.4.0\n",
      "\u001b[32m✔\u001b[39m \u001b[34mreadr  \u001b[39m 1.3.1     \u001b[32m✔\u001b[39m \u001b[34mforcats\u001b[39m 0.4.0\n",
      "\n",
      "── \u001b[1mConflicts\u001b[22m ────────────────────────────────────────── tidyverse_conflicts() ──\n",
      "\u001b[31m✖\u001b[39m \u001b[34mdplyr\u001b[39m::\u001b[32mfilter()\u001b[39m masks \u001b[34mstats\u001b[39m::filter()\n",
      "\u001b[31m✖\u001b[39m \u001b[34mdplyr\u001b[39m::\u001b[32mlag()\u001b[39m    masks \u001b[34mstats\u001b[39m::lag()\n",
      "\n"
     ]
    }
   ],
   "source": [
    "library('tidyverse')"
   ]
  },
  {
   "cell_type": "code",
   "execution_count": 2,
   "metadata": {},
   "outputs": [
    {
     "data": {
      "text/html": [
       "<table>\n",
       "<caption>A data.frame: 6 × 7</caption>\n",
       "<thead>\n",
       "\t<tr><th scope=col>year</th><th scope=col>name</th><th scope=col>country</th><th scope=col>time</th><th scope=col>race.time</th><th scope=col>MF</th><th scope=col>country.simple</th></tr>\n",
       "\t<tr><th scope=col>&lt;int&gt;</th><th scope=col>&lt;fct&gt;</th><th scope=col>&lt;fct&gt;</th><th scope=col>&lt;fct&gt;</th><th scope=col>&lt;dbl&gt;</th><th scope=col>&lt;fct&gt;</th><th scope=col>&lt;fct&gt;</th></tr>\n",
       "</thead>\n",
       "<tbody>\n",
       "\t<tr><td>2019</td><td>Lawrence Cherono          </td><td>Kenya        </td><td>2H 7M 57S </td><td>2.132500</td><td>Men's</td><td>Kenya        </td></tr>\n",
       "\t<tr><td>2018</td><td>Yuki Kawauchi             </td><td>Japan        </td><td>2H 15M 58S</td><td>2.266111</td><td>Men's</td><td>Japan        </td></tr>\n",
       "\t<tr><td>2017</td><td>Geoffrey Kirui            </td><td>Kenya        </td><td>2H 9M 37S </td><td>2.160278</td><td>Men's</td><td>Kenya        </td></tr>\n",
       "\t<tr><td>2016</td><td>Lemi Berhanu              </td><td>Ethiopia     </td><td>2H 12M 45S</td><td>2.212500</td><td>Men's</td><td>Ethiopia     </td></tr>\n",
       "\t<tr><td>2015</td><td>Lelisa Desisa             </td><td>Ethiopia     </td><td>2H 9M 17S </td><td>2.154722</td><td>Men's</td><td>Ethiopia     </td></tr>\n",
       "\t<tr><td>2014</td><td>Mebrahtom \"Meb\" Keflezighi</td><td>United States</td><td>2H 8M 37S </td><td>2.143611</td><td>Men's</td><td>United States</td></tr>\n",
       "</tbody>\n",
       "</table>\n"
      ],
      "text/latex": [
       "A data.frame: 6 × 7\n",
       "\\begin{tabular}{r|lllllll}\n",
       " year & name & country & time & race.time & MF & country.simple\\\\\n",
       " <int> & <fct> & <fct> & <fct> & <dbl> & <fct> & <fct>\\\\\n",
       "\\hline\n",
       "\t 2019 & Lawrence Cherono           & Kenya         & 2H 7M 57S  & 2.132500 & Men's & Kenya        \\\\\n",
       "\t 2018 & Yuki Kawauchi              & Japan         & 2H 15M 58S & 2.266111 & Men's & Japan        \\\\\n",
       "\t 2017 & Geoffrey Kirui             & Kenya         & 2H 9M 37S  & 2.160278 & Men's & Kenya        \\\\\n",
       "\t 2016 & Lemi Berhanu               & Ethiopia      & 2H 12M 45S & 2.212500 & Men's & Ethiopia     \\\\\n",
       "\t 2015 & Lelisa Desisa              & Ethiopia      & 2H 9M 17S  & 2.154722 & Men's & Ethiopia     \\\\\n",
       "\t 2014 & Mebrahtom \"Meb\" Keflezighi & United States & 2H 8M 37S  & 2.143611 & Men's & United States\\\\\n",
       "\\end{tabular}\n"
      ],
      "text/markdown": [
       "\n",
       "A data.frame: 6 × 7\n",
       "\n",
       "| year &lt;int&gt; | name &lt;fct&gt; | country &lt;fct&gt; | time &lt;fct&gt; | race.time &lt;dbl&gt; | MF &lt;fct&gt; | country.simple &lt;fct&gt; |\n",
       "|---|---|---|---|---|---|---|\n",
       "| 2019 | Lawrence Cherono           | Kenya         | 2H 7M 57S  | 2.132500 | Men's | Kenya         |\n",
       "| 2018 | Yuki Kawauchi              | Japan         | 2H 15M 58S | 2.266111 | Men's | Japan         |\n",
       "| 2017 | Geoffrey Kirui             | Kenya         | 2H 9M 37S  | 2.160278 | Men's | Kenya         |\n",
       "| 2016 | Lemi Berhanu               | Ethiopia      | 2H 12M 45S | 2.212500 | Men's | Ethiopia      |\n",
       "| 2015 | Lelisa Desisa              | Ethiopia      | 2H 9M 17S  | 2.154722 | Men's | Ethiopia      |\n",
       "| 2014 | Mebrahtom \"Meb\" Keflezighi | United States | 2H 8M 37S  | 2.143611 | Men's | United States |\n",
       "\n"
      ],
      "text/plain": [
       "  year name                       country       time       race.time MF   \n",
       "1 2019 Lawrence Cherono           Kenya         2H 7M 57S  2.132500  Men's\n",
       "2 2018 Yuki Kawauchi              Japan         2H 15M 58S 2.266111  Men's\n",
       "3 2017 Geoffrey Kirui             Kenya         2H 9M 37S  2.160278  Men's\n",
       "4 2016 Lemi Berhanu               Ethiopia      2H 12M 45S 2.212500  Men's\n",
       "5 2015 Lelisa Desisa              Ethiopia      2H 9M 17S  2.154722  Men's\n",
       "6 2014 Mebrahtom \"Meb\" Keflezighi United States 2H 8M 37S  2.143611  Men's\n",
       "  country.simple\n",
       "1 Kenya         \n",
       "2 Japan         \n",
       "3 Kenya         \n",
       "4 Ethiopia      \n",
       "5 Ethiopia      \n",
       "6 United States "
      ]
     },
     "metadata": {},
     "output_type": "display_data"
    }
   ],
   "source": [
    "df.marathon = read.csv('../data/marathon.csv')\n",
    "df.marathon %>% head"
   ]
  },
  {
   "cell_type": "markdown",
   "metadata": {},
   "source": [
    "# Filter"
   ]
  },
  {
   "cell_type": "markdown",
   "metadata": {},
   "source": [
    "- the filter operation does exactly what you expect given its name."
   ]
  },
  {
   "cell_type": "code",
   "execution_count": 3,
   "metadata": {},
   "outputs": [],
   "source": [
    "# e.g.\n",
    "\n",
    "# iris %>% filter(Species == 'setosa', Petal.Width > 0.2)"
   ]
  },
  {
   "cell_type": "markdown",
   "metadata": {},
   "source": [
    "- The syntax for the `equals` operator in R is `==`.\n",
    "- Greater than (`>` or `>=`) and less than (`<` or `<=`) are intuitive.\n",
    "- You can fitler on multiple columns by adding arguments to the filter operation."
   ]
  },
  {
   "cell_type": "markdown",
   "metadata": {},
   "source": [
    "Filter the marathon data to just the runners from Kenya."
   ]
  },
  {
   "cell_type": "code",
   "execution_count": 3,
   "metadata": {},
   "outputs": [
    {
     "data": {
      "text/html": [
       "<table>\n",
       "<caption>A data.frame: 34 × 7</caption>\n",
       "<thead>\n",
       "\t<tr><th scope=col>year</th><th scope=col>name</th><th scope=col>country</th><th scope=col>time</th><th scope=col>race.time</th><th scope=col>MF</th><th scope=col>country.simple</th></tr>\n",
       "\t<tr><th scope=col>&lt;int&gt;</th><th scope=col>&lt;fct&gt;</th><th scope=col>&lt;fct&gt;</th><th scope=col>&lt;fct&gt;</th><th scope=col>&lt;dbl&gt;</th><th scope=col>&lt;fct&gt;</th><th scope=col>&lt;fct&gt;</th></tr>\n",
       "</thead>\n",
       "<tbody>\n",
       "\t<tr><td>2019</td><td>Lawrence Cherono         </td><td>Kenya</td><td>2H 7M 57S </td><td>2.132500</td><td>Men's  </td><td>Kenya</td></tr>\n",
       "\t<tr><td>2017</td><td>Geoffrey Kirui           </td><td>Kenya</td><td>2H 9M 37S </td><td>2.160278</td><td>Men's  </td><td>Kenya</td></tr>\n",
       "\t<tr><td>2012</td><td>Wesley Korir             </td><td>Kenya</td><td>2H 12M 40S</td><td>2.211111</td><td>Men's  </td><td>Kenya</td></tr>\n",
       "\t<tr><td>2011</td><td>Geoffrey Mutai           </td><td>Kenya</td><td>2H 3M 2S  </td><td>2.050556</td><td>Men's  </td><td>Kenya</td></tr>\n",
       "\t<tr><td>2010</td><td>Robert Kiprono Cheruiyot </td><td>Kenya</td><td>2H 5M 52S </td><td>2.097778</td><td>Men's  </td><td>Kenya</td></tr>\n",
       "\t<tr><td>2008</td><td>Robert Kipkoech Cheruiyot</td><td>Kenya</td><td>2H 7M 46S </td><td>2.129444</td><td>Men's  </td><td>Kenya</td></tr>\n",
       "\t<tr><td>2007</td><td>Robert Kipkoech Cheruiyot</td><td>Kenya</td><td>2H 14M 13S</td><td>2.236944</td><td>Men's  </td><td>Kenya</td></tr>\n",
       "\t<tr><td>2006</td><td>Robert Kipkoech Cheruiyot</td><td>Kenya</td><td>2H 7M 14S </td><td>2.120556</td><td>Men's  </td><td>Kenya</td></tr>\n",
       "\t<tr><td>2004</td><td>Timothy Cherigat         </td><td>Kenya</td><td>2H 10M 37S</td><td>2.176944</td><td>Men's  </td><td>Kenya</td></tr>\n",
       "\t<tr><td>2003</td><td>Robert Kipkoech Cheruiyot</td><td>Kenya</td><td>2H 10M 11S</td><td>2.169722</td><td>Men's  </td><td>Kenya</td></tr>\n",
       "\t<tr><td>2002</td><td>Rodgers Rop              </td><td>Kenya</td><td>2H 9M 2S  </td><td>2.150556</td><td>Men's  </td><td>Kenya</td></tr>\n",
       "\t<tr><td>2000</td><td>Elijah Lagat             </td><td>Kenya</td><td>2H 9M 47S </td><td>2.163056</td><td>Men's  </td><td>Kenya</td></tr>\n",
       "\t<tr><td>1999</td><td>Joseph Chebet            </td><td>Kenya</td><td>2H 9M 52S </td><td>2.164444</td><td>Men's  </td><td>Kenya</td></tr>\n",
       "\t<tr><td>1998</td><td>Moses Tanui              </td><td>Kenya</td><td>2H 7M 34S </td><td>2.126111</td><td>Men's  </td><td>Kenya</td></tr>\n",
       "\t<tr><td>1997</td><td>Lameck Aguta             </td><td>Kenya</td><td>2H 10M 34S</td><td>2.176111</td><td>Men's  </td><td>Kenya</td></tr>\n",
       "\t<tr><td>1996</td><td>Moses Tanui              </td><td>Kenya</td><td>2H 9M 15S </td><td>2.154167</td><td>Men's  </td><td>Kenya</td></tr>\n",
       "\t<tr><td>1995</td><td>Cosmas Ndeti             </td><td>Kenya</td><td>2H 9M 22S </td><td>2.156111</td><td>Men's  </td><td>Kenya</td></tr>\n",
       "\t<tr><td>1994</td><td>Cosmas Ndeti             </td><td>Kenya</td><td>2H 7M 15S </td><td>2.120833</td><td>Men's  </td><td>Kenya</td></tr>\n",
       "\t<tr><td>1993</td><td>Cosmas Ndeti             </td><td>Kenya</td><td>2H 9M 33S </td><td>2.159167</td><td>Men's  </td><td>Kenya</td></tr>\n",
       "\t<tr><td>1992</td><td>Ibrahim Hussein          </td><td>Kenya</td><td>2H 8M 14S </td><td>2.137222</td><td>Men's  </td><td>Kenya</td></tr>\n",
       "\t<tr><td>1991</td><td>Ibrahim Hussein          </td><td>Kenya</td><td>2H 11M 6S </td><td>2.185000</td><td>Men's  </td><td>Kenya</td></tr>\n",
       "\t<tr><td>1988</td><td>Ibrahim Hussein          </td><td>Kenya</td><td>2H 8M 43S </td><td>2.145278</td><td>Men's  </td><td>Kenya</td></tr>\n",
       "\t<tr><td>2017</td><td>Edna Kiplagat            </td><td>Kenya</td><td>2H 21M 52S</td><td>2.364444</td><td>Women's</td><td>Kenya</td></tr>\n",
       "\t<tr><td>2015</td><td>Caroline Rotich          </td><td>Kenya</td><td>2H 24M 55S</td><td>2.415278</td><td>Women's</td><td>Kenya</td></tr>\n",
       "\t<tr><td>2013</td><td>Rita Jeptoo              </td><td>Kenya</td><td>2H 26M 25S</td><td>2.440278</td><td>Women's</td><td>Kenya</td></tr>\n",
       "\t<tr><td>2012</td><td>Sharon Cherop            </td><td>Kenya</td><td>2H 31M 50S</td><td>2.530556</td><td>Women's</td><td>Kenya</td></tr>\n",
       "\t<tr><td>2011</td><td>Caroline Kilel           </td><td>Kenya</td><td>2H 22M 36S</td><td>2.376667</td><td>Women's</td><td>Kenya</td></tr>\n",
       "\t<tr><td>2009</td><td>Salina Kosgei            </td><td>Kenya</td><td>2H 32M 16S</td><td>2.537778</td><td>Women's</td><td>Kenya</td></tr>\n",
       "\t<tr><td>2006</td><td>Rita Jeptoo              </td><td>Kenya</td><td>2H 23M 38S</td><td>2.393889</td><td>Women's</td><td>Kenya</td></tr>\n",
       "\t<tr><td>2005</td><td>Catherine Ndereba        </td><td>Kenya</td><td>2H 25M 13S</td><td>2.420278</td><td>Women's</td><td>Kenya</td></tr>\n",
       "\t<tr><td>2004</td><td>Catherine Ndereba        </td><td>Kenya</td><td>2H 24M 27S</td><td>2.407500</td><td>Women's</td><td>Kenya</td></tr>\n",
       "\t<tr><td>2002</td><td>Margaret Okayo           </td><td>Kenya</td><td>2H 20M 43S</td><td>2.345278</td><td>Women's</td><td>Kenya</td></tr>\n",
       "\t<tr><td>2001</td><td>Catherine Ndereba        </td><td>Kenya</td><td>2H 23M 53S</td><td>2.398056</td><td>Women's</td><td>Kenya</td></tr>\n",
       "\t<tr><td>2000</td><td>Catherine Ndereba        </td><td>Kenya</td><td>2H 26M 11S</td><td>2.436389</td><td>Women's</td><td>Kenya</td></tr>\n",
       "</tbody>\n",
       "</table>\n"
      ],
      "text/latex": [
       "A data.frame: 34 × 7\n",
       "\\begin{tabular}{r|lllllll}\n",
       " year & name & country & time & race.time & MF & country.simple\\\\\n",
       " <int> & <fct> & <fct> & <fct> & <dbl> & <fct> & <fct>\\\\\n",
       "\\hline\n",
       "\t 2019 & Lawrence Cherono          & Kenya & 2H 7M 57S  & 2.132500 & Men's   & Kenya\\\\\n",
       "\t 2017 & Geoffrey Kirui            & Kenya & 2H 9M 37S  & 2.160278 & Men's   & Kenya\\\\\n",
       "\t 2012 & Wesley Korir              & Kenya & 2H 12M 40S & 2.211111 & Men's   & Kenya\\\\\n",
       "\t 2011 & Geoffrey Mutai            & Kenya & 2H 3M 2S   & 2.050556 & Men's   & Kenya\\\\\n",
       "\t 2010 & Robert Kiprono Cheruiyot  & Kenya & 2H 5M 52S  & 2.097778 & Men's   & Kenya\\\\\n",
       "\t 2008 & Robert Kipkoech Cheruiyot & Kenya & 2H 7M 46S  & 2.129444 & Men's   & Kenya\\\\\n",
       "\t 2007 & Robert Kipkoech Cheruiyot & Kenya & 2H 14M 13S & 2.236944 & Men's   & Kenya\\\\\n",
       "\t 2006 & Robert Kipkoech Cheruiyot & Kenya & 2H 7M 14S  & 2.120556 & Men's   & Kenya\\\\\n",
       "\t 2004 & Timothy Cherigat          & Kenya & 2H 10M 37S & 2.176944 & Men's   & Kenya\\\\\n",
       "\t 2003 & Robert Kipkoech Cheruiyot & Kenya & 2H 10M 11S & 2.169722 & Men's   & Kenya\\\\\n",
       "\t 2002 & Rodgers Rop               & Kenya & 2H 9M 2S   & 2.150556 & Men's   & Kenya\\\\\n",
       "\t 2000 & Elijah Lagat              & Kenya & 2H 9M 47S  & 2.163056 & Men's   & Kenya\\\\\n",
       "\t 1999 & Joseph Chebet             & Kenya & 2H 9M 52S  & 2.164444 & Men's   & Kenya\\\\\n",
       "\t 1998 & Moses Tanui               & Kenya & 2H 7M 34S  & 2.126111 & Men's   & Kenya\\\\\n",
       "\t 1997 & Lameck Aguta              & Kenya & 2H 10M 34S & 2.176111 & Men's   & Kenya\\\\\n",
       "\t 1996 & Moses Tanui               & Kenya & 2H 9M 15S  & 2.154167 & Men's   & Kenya\\\\\n",
       "\t 1995 & Cosmas Ndeti              & Kenya & 2H 9M 22S  & 2.156111 & Men's   & Kenya\\\\\n",
       "\t 1994 & Cosmas Ndeti              & Kenya & 2H 7M 15S  & 2.120833 & Men's   & Kenya\\\\\n",
       "\t 1993 & Cosmas Ndeti              & Kenya & 2H 9M 33S  & 2.159167 & Men's   & Kenya\\\\\n",
       "\t 1992 & Ibrahim Hussein           & Kenya & 2H 8M 14S  & 2.137222 & Men's   & Kenya\\\\\n",
       "\t 1991 & Ibrahim Hussein           & Kenya & 2H 11M 6S  & 2.185000 & Men's   & Kenya\\\\\n",
       "\t 1988 & Ibrahim Hussein           & Kenya & 2H 8M 43S  & 2.145278 & Men's   & Kenya\\\\\n",
       "\t 2017 & Edna Kiplagat             & Kenya & 2H 21M 52S & 2.364444 & Women's & Kenya\\\\\n",
       "\t 2015 & Caroline Rotich           & Kenya & 2H 24M 55S & 2.415278 & Women's & Kenya\\\\\n",
       "\t 2013 & Rita Jeptoo               & Kenya & 2H 26M 25S & 2.440278 & Women's & Kenya\\\\\n",
       "\t 2012 & Sharon Cherop             & Kenya & 2H 31M 50S & 2.530556 & Women's & Kenya\\\\\n",
       "\t 2011 & Caroline Kilel            & Kenya & 2H 22M 36S & 2.376667 & Women's & Kenya\\\\\n",
       "\t 2009 & Salina Kosgei             & Kenya & 2H 32M 16S & 2.537778 & Women's & Kenya\\\\\n",
       "\t 2006 & Rita Jeptoo               & Kenya & 2H 23M 38S & 2.393889 & Women's & Kenya\\\\\n",
       "\t 2005 & Catherine Ndereba         & Kenya & 2H 25M 13S & 2.420278 & Women's & Kenya\\\\\n",
       "\t 2004 & Catherine Ndereba         & Kenya & 2H 24M 27S & 2.407500 & Women's & Kenya\\\\\n",
       "\t 2002 & Margaret Okayo            & Kenya & 2H 20M 43S & 2.345278 & Women's & Kenya\\\\\n",
       "\t 2001 & Catherine Ndereba         & Kenya & 2H 23M 53S & 2.398056 & Women's & Kenya\\\\\n",
       "\t 2000 & Catherine Ndereba         & Kenya & 2H 26M 11S & 2.436389 & Women's & Kenya\\\\\n",
       "\\end{tabular}\n"
      ],
      "text/markdown": [
       "\n",
       "A data.frame: 34 × 7\n",
       "\n",
       "| year &lt;int&gt; | name &lt;fct&gt; | country &lt;fct&gt; | time &lt;fct&gt; | race.time &lt;dbl&gt; | MF &lt;fct&gt; | country.simple &lt;fct&gt; |\n",
       "|---|---|---|---|---|---|---|\n",
       "| 2019 | Lawrence Cherono          | Kenya | 2H 7M 57S  | 2.132500 | Men's   | Kenya |\n",
       "| 2017 | Geoffrey Kirui            | Kenya | 2H 9M 37S  | 2.160278 | Men's   | Kenya |\n",
       "| 2012 | Wesley Korir              | Kenya | 2H 12M 40S | 2.211111 | Men's   | Kenya |\n",
       "| 2011 | Geoffrey Mutai            | Kenya | 2H 3M 2S   | 2.050556 | Men's   | Kenya |\n",
       "| 2010 | Robert Kiprono Cheruiyot  | Kenya | 2H 5M 52S  | 2.097778 | Men's   | Kenya |\n",
       "| 2008 | Robert Kipkoech Cheruiyot | Kenya | 2H 7M 46S  | 2.129444 | Men's   | Kenya |\n",
       "| 2007 | Robert Kipkoech Cheruiyot | Kenya | 2H 14M 13S | 2.236944 | Men's   | Kenya |\n",
       "| 2006 | Robert Kipkoech Cheruiyot | Kenya | 2H 7M 14S  | 2.120556 | Men's   | Kenya |\n",
       "| 2004 | Timothy Cherigat          | Kenya | 2H 10M 37S | 2.176944 | Men's   | Kenya |\n",
       "| 2003 | Robert Kipkoech Cheruiyot | Kenya | 2H 10M 11S | 2.169722 | Men's   | Kenya |\n",
       "| 2002 | Rodgers Rop               | Kenya | 2H 9M 2S   | 2.150556 | Men's   | Kenya |\n",
       "| 2000 | Elijah Lagat              | Kenya | 2H 9M 47S  | 2.163056 | Men's   | Kenya |\n",
       "| 1999 | Joseph Chebet             | Kenya | 2H 9M 52S  | 2.164444 | Men's   | Kenya |\n",
       "| 1998 | Moses Tanui               | Kenya | 2H 7M 34S  | 2.126111 | Men's   | Kenya |\n",
       "| 1997 | Lameck Aguta              | Kenya | 2H 10M 34S | 2.176111 | Men's   | Kenya |\n",
       "| 1996 | Moses Tanui               | Kenya | 2H 9M 15S  | 2.154167 | Men's   | Kenya |\n",
       "| 1995 | Cosmas Ndeti              | Kenya | 2H 9M 22S  | 2.156111 | Men's   | Kenya |\n",
       "| 1994 | Cosmas Ndeti              | Kenya | 2H 7M 15S  | 2.120833 | Men's   | Kenya |\n",
       "| 1993 | Cosmas Ndeti              | Kenya | 2H 9M 33S  | 2.159167 | Men's   | Kenya |\n",
       "| 1992 | Ibrahim Hussein           | Kenya | 2H 8M 14S  | 2.137222 | Men's   | Kenya |\n",
       "| 1991 | Ibrahim Hussein           | Kenya | 2H 11M 6S  | 2.185000 | Men's   | Kenya |\n",
       "| 1988 | Ibrahim Hussein           | Kenya | 2H 8M 43S  | 2.145278 | Men's   | Kenya |\n",
       "| 2017 | Edna Kiplagat             | Kenya | 2H 21M 52S | 2.364444 | Women's | Kenya |\n",
       "| 2015 | Caroline Rotich           | Kenya | 2H 24M 55S | 2.415278 | Women's | Kenya |\n",
       "| 2013 | Rita Jeptoo               | Kenya | 2H 26M 25S | 2.440278 | Women's | Kenya |\n",
       "| 2012 | Sharon Cherop             | Kenya | 2H 31M 50S | 2.530556 | Women's | Kenya |\n",
       "| 2011 | Caroline Kilel            | Kenya | 2H 22M 36S | 2.376667 | Women's | Kenya |\n",
       "| 2009 | Salina Kosgei             | Kenya | 2H 32M 16S | 2.537778 | Women's | Kenya |\n",
       "| 2006 | Rita Jeptoo               | Kenya | 2H 23M 38S | 2.393889 | Women's | Kenya |\n",
       "| 2005 | Catherine Ndereba         | Kenya | 2H 25M 13S | 2.420278 | Women's | Kenya |\n",
       "| 2004 | Catherine Ndereba         | Kenya | 2H 24M 27S | 2.407500 | Women's | Kenya |\n",
       "| 2002 | Margaret Okayo            | Kenya | 2H 20M 43S | 2.345278 | Women's | Kenya |\n",
       "| 2001 | Catherine Ndereba         | Kenya | 2H 23M 53S | 2.398056 | Women's | Kenya |\n",
       "| 2000 | Catherine Ndereba         | Kenya | 2H 26M 11S | 2.436389 | Women's | Kenya |\n",
       "\n"
      ],
      "text/plain": [
       "   year name                      country time       race.time MF     \n",
       "1  2019 Lawrence Cherono          Kenya   2H 7M 57S  2.132500  Men's  \n",
       "2  2017 Geoffrey Kirui            Kenya   2H 9M 37S  2.160278  Men's  \n",
       "3  2012 Wesley Korir              Kenya   2H 12M 40S 2.211111  Men's  \n",
       "4  2011 Geoffrey Mutai            Kenya   2H 3M 2S   2.050556  Men's  \n",
       "5  2010 Robert Kiprono Cheruiyot  Kenya   2H 5M 52S  2.097778  Men's  \n",
       "6  2008 Robert Kipkoech Cheruiyot Kenya   2H 7M 46S  2.129444  Men's  \n",
       "7  2007 Robert Kipkoech Cheruiyot Kenya   2H 14M 13S 2.236944  Men's  \n",
       "8  2006 Robert Kipkoech Cheruiyot Kenya   2H 7M 14S  2.120556  Men's  \n",
       "9  2004 Timothy Cherigat          Kenya   2H 10M 37S 2.176944  Men's  \n",
       "10 2003 Robert Kipkoech Cheruiyot Kenya   2H 10M 11S 2.169722  Men's  \n",
       "11 2002 Rodgers Rop               Kenya   2H 9M 2S   2.150556  Men's  \n",
       "12 2000 Elijah Lagat              Kenya   2H 9M 47S  2.163056  Men's  \n",
       "13 1999 Joseph Chebet             Kenya   2H 9M 52S  2.164444  Men's  \n",
       "14 1998 Moses Tanui               Kenya   2H 7M 34S  2.126111  Men's  \n",
       "15 1997 Lameck Aguta              Kenya   2H 10M 34S 2.176111  Men's  \n",
       "16 1996 Moses Tanui               Kenya   2H 9M 15S  2.154167  Men's  \n",
       "17 1995 Cosmas Ndeti              Kenya   2H 9M 22S  2.156111  Men's  \n",
       "18 1994 Cosmas Ndeti              Kenya   2H 7M 15S  2.120833  Men's  \n",
       "19 1993 Cosmas Ndeti              Kenya   2H 9M 33S  2.159167  Men's  \n",
       "20 1992 Ibrahim Hussein           Kenya   2H 8M 14S  2.137222  Men's  \n",
       "21 1991 Ibrahim Hussein           Kenya   2H 11M 6S  2.185000  Men's  \n",
       "22 1988 Ibrahim Hussein           Kenya   2H 8M 43S  2.145278  Men's  \n",
       "23 2017 Edna Kiplagat             Kenya   2H 21M 52S 2.364444  Women's\n",
       "24 2015 Caroline Rotich           Kenya   2H 24M 55S 2.415278  Women's\n",
       "25 2013 Rita Jeptoo               Kenya   2H 26M 25S 2.440278  Women's\n",
       "26 2012 Sharon Cherop             Kenya   2H 31M 50S 2.530556  Women's\n",
       "27 2011 Caroline Kilel            Kenya   2H 22M 36S 2.376667  Women's\n",
       "28 2009 Salina Kosgei             Kenya   2H 32M 16S 2.537778  Women's\n",
       "29 2006 Rita Jeptoo               Kenya   2H 23M 38S 2.393889  Women's\n",
       "30 2005 Catherine Ndereba         Kenya   2H 25M 13S 2.420278  Women's\n",
       "31 2004 Catherine Ndereba         Kenya   2H 24M 27S 2.407500  Women's\n",
       "32 2002 Margaret Okayo            Kenya   2H 20M 43S 2.345278  Women's\n",
       "33 2001 Catherine Ndereba         Kenya   2H 23M 53S 2.398056  Women's\n",
       "34 2000 Catherine Ndereba         Kenya   2H 26M 11S 2.436389  Women's\n",
       "   country.simple\n",
       "1  Kenya         \n",
       "2  Kenya         \n",
       "3  Kenya         \n",
       "4  Kenya         \n",
       "5  Kenya         \n",
       "6  Kenya         \n",
       "7  Kenya         \n",
       "8  Kenya         \n",
       "9  Kenya         \n",
       "10 Kenya         \n",
       "11 Kenya         \n",
       "12 Kenya         \n",
       "13 Kenya         \n",
       "14 Kenya         \n",
       "15 Kenya         \n",
       "16 Kenya         \n",
       "17 Kenya         \n",
       "18 Kenya         \n",
       "19 Kenya         \n",
       "20 Kenya         \n",
       "21 Kenya         \n",
       "22 Kenya         \n",
       "23 Kenya         \n",
       "24 Kenya         \n",
       "25 Kenya         \n",
       "26 Kenya         \n",
       "27 Kenya         \n",
       "28 Kenya         \n",
       "29 Kenya         \n",
       "30 Kenya         \n",
       "31 Kenya         \n",
       "32 Kenya         \n",
       "33 Kenya         \n",
       "34 Kenya         "
      ]
     },
     "metadata": {},
     "output_type": "display_data"
    }
   ],
   "source": [
    "df.marathon %>% \n",
    "    filter(country == \"Kenya\")"
   ]
  },
  {
   "cell_type": "markdown",
   "metadata": {},
   "source": [
    "# Select"
   ]
  },
  {
   "cell_type": "markdown",
   "metadata": {},
   "source": [
    "- select let's you include/exclude columns."
   ]
  },
  {
   "cell_type": "code",
   "execution_count": 4,
   "metadata": {},
   "outputs": [],
   "source": [
    "# e.g.\n",
    "\n",
    "# iris %>% select(Species, Sepal.Length) %>% head"
   ]
  },
  {
   "cell_type": "markdown",
   "metadata": {},
   "source": [
    "Select just the columns that represent runner names and country from the marathon data."
   ]
  },
  {
   "cell_type": "code",
   "execution_count": 24,
   "metadata": {},
   "outputs": [
    {
     "data": {
      "text/html": [
       "<table>\n",
       "<caption>A data.frame: 6 × 2</caption>\n",
       "<thead>\n",
       "\t<tr><th scope=col>name</th><th scope=col>country</th></tr>\n",
       "\t<tr><th scope=col>&lt;fct&gt;</th><th scope=col>&lt;fct&gt;</th></tr>\n",
       "</thead>\n",
       "<tbody>\n",
       "\t<tr><td>Lawrence Cherono          </td><td>Kenya        </td></tr>\n",
       "\t<tr><td>Yuki Kawauchi             </td><td>Japan        </td></tr>\n",
       "\t<tr><td>Geoffrey Kirui            </td><td>Kenya        </td></tr>\n",
       "\t<tr><td>Lemi Berhanu              </td><td>Ethiopia     </td></tr>\n",
       "\t<tr><td>Lelisa Desisa             </td><td>Ethiopia     </td></tr>\n",
       "\t<tr><td>Mebrahtom \"Meb\" Keflezighi</td><td>United States</td></tr>\n",
       "</tbody>\n",
       "</table>\n"
      ],
      "text/latex": [
       "A data.frame: 6 × 2\n",
       "\\begin{tabular}{r|ll}\n",
       " name & country\\\\\n",
       " <fct> & <fct>\\\\\n",
       "\\hline\n",
       "\t Lawrence Cherono           & Kenya        \\\\\n",
       "\t Yuki Kawauchi              & Japan        \\\\\n",
       "\t Geoffrey Kirui             & Kenya        \\\\\n",
       "\t Lemi Berhanu               & Ethiopia     \\\\\n",
       "\t Lelisa Desisa              & Ethiopia     \\\\\n",
       "\t Mebrahtom \"Meb\" Keflezighi & United States\\\\\n",
       "\\end{tabular}\n"
      ],
      "text/markdown": [
       "\n",
       "A data.frame: 6 × 2\n",
       "\n",
       "| name &lt;fct&gt; | country &lt;fct&gt; |\n",
       "|---|---|\n",
       "| Lawrence Cherono           | Kenya         |\n",
       "| Yuki Kawauchi              | Japan         |\n",
       "| Geoffrey Kirui             | Kenya         |\n",
       "| Lemi Berhanu               | Ethiopia      |\n",
       "| Lelisa Desisa              | Ethiopia      |\n",
       "| Mebrahtom \"Meb\" Keflezighi | United States |\n",
       "\n"
      ],
      "text/plain": [
       "  name                       country      \n",
       "1 Lawrence Cherono           Kenya        \n",
       "2 Yuki Kawauchi              Japan        \n",
       "3 Geoffrey Kirui             Kenya        \n",
       "4 Lemi Berhanu               Ethiopia     \n",
       "5 Lelisa Desisa              Ethiopia     \n",
       "6 Mebrahtom \"Meb\" Keflezighi United States"
      ]
     },
     "metadata": {},
     "output_type": "display_data"
    }
   ],
   "source": [
    "df.marathon %>% \n",
    "    select(name, country) %>%\n",
    "    head"
   ]
  },
  {
   "cell_type": "markdown",
   "metadata": {},
   "source": [
    "# Putting it all together"
   ]
  },
  {
   "cell_type": "markdown",
   "metadata": {},
   "source": [
    "Use `group_by`, `filter`, and `summarize` to show the best race times for US and Kenyan women runners. (*Hint: use the `%in%` operator to filter by two values for one column*). Fill in the missing pieces below:"
   ]
  },
  {
   "cell_type": "code",
   "execution_count": 31,
   "metadata": {},
   "outputs": [
    {
     "data": {
      "text/html": [
       "<table>\n",
       "<caption>A tibble: 2 × 2</caption>\n",
       "<thead>\n",
       "\t<tr><th scope=col>country</th><th scope=col>best.race.time</th></tr>\n",
       "\t<tr><th scope=col>&lt;fct&gt;</th><th scope=col>&lt;dbl&gt;</th></tr>\n",
       "</thead>\n",
       "<tbody>\n",
       "\t<tr><td>Kenya        </td><td>2.345278</td></tr>\n",
       "\t<tr><td>United States</td><td>2.378611</td></tr>\n",
       "</tbody>\n",
       "</table>\n"
      ],
      "text/latex": [
       "A tibble: 2 × 2\n",
       "\\begin{tabular}{r|ll}\n",
       " country & best.race.time\\\\\n",
       " <fct> & <dbl>\\\\\n",
       "\\hline\n",
       "\t Kenya         & 2.345278\\\\\n",
       "\t United States & 2.378611\\\\\n",
       "\\end{tabular}\n"
      ],
      "text/markdown": [
       "\n",
       "A tibble: 2 × 2\n",
       "\n",
       "| country &lt;fct&gt; | best.race.time &lt;dbl&gt; |\n",
       "|---|---|\n",
       "| Kenya         | 2.345278 |\n",
       "| United States | 2.378611 |\n",
       "\n"
      ],
      "text/plain": [
       "  country       best.race.time\n",
       "1 Kenya         2.345278      \n",
       "2 United States 2.378611      "
      ]
     },
     "metadata": {},
     "output_type": "display_data"
    }
   ],
   "source": [
    "df.marathon %>%\n",
    "     filter(MF == \"Women's\", country %in% c(\"United States\", \"Kenya\")) %>%\n",
    "     group_by(country) %>%\n",
    "     summarize(best.race.time = min(race.time))"
   ]
  },
  {
   "cell_type": "markdown",
   "metadata": {},
   "source": [
    "The best race time for US is 2.378611, for Kenya is 2.345278."
   ]
  },
  {
   "cell_type": "markdown",
   "metadata": {},
   "source": [
    "Use `filter`, `select`, `head`, and `arrange` to show the best women's race times in the data and the country of the runners. Fill in the missing pieces below:"
   ]
  },
  {
   "cell_type": "code",
   "execution_count": 34,
   "metadata": {},
   "outputs": [
    {
     "data": {
      "text/html": [
       "<table>\n",
       "<caption>A data.frame: 6 × 2</caption>\n",
       "<thead>\n",
       "\t<tr><th scope=col>race.time</th><th scope=col>country</th></tr>\n",
       "\t<tr><th scope=col>&lt;dbl&gt;</th><th scope=col>&lt;fct&gt;</th></tr>\n",
       "</thead>\n",
       "<tbody>\n",
       "\t<tr><td>2.333056</td><td>Ethiopia     </td></tr>\n",
       "\t<tr><td>2.345278</td><td>Kenya        </td></tr>\n",
       "\t<tr><td>2.362500</td><td>Germany      </td></tr>\n",
       "\t<tr><td>2.364444</td><td>Kenya        </td></tr>\n",
       "\t<tr><td>2.376667</td><td>Kenya        </td></tr>\n",
       "\t<tr><td>2.378611</td><td>United States</td></tr>\n",
       "</tbody>\n",
       "</table>\n"
      ],
      "text/latex": [
       "A data.frame: 6 × 2\n",
       "\\begin{tabular}{r|ll}\n",
       " race.time & country\\\\\n",
       " <dbl> & <fct>\\\\\n",
       "\\hline\n",
       "\t 2.333056 & Ethiopia     \\\\\n",
       "\t 2.345278 & Kenya        \\\\\n",
       "\t 2.362500 & Germany      \\\\\n",
       "\t 2.364444 & Kenya        \\\\\n",
       "\t 2.376667 & Kenya        \\\\\n",
       "\t 2.378611 & United States\\\\\n",
       "\\end{tabular}\n"
      ],
      "text/markdown": [
       "\n",
       "A data.frame: 6 × 2\n",
       "\n",
       "| race.time &lt;dbl&gt; | country &lt;fct&gt; |\n",
       "|---|---|\n",
       "| 2.333056 | Ethiopia      |\n",
       "| 2.345278 | Kenya         |\n",
       "| 2.362500 | Germany       |\n",
       "| 2.364444 | Kenya         |\n",
       "| 2.376667 | Kenya         |\n",
       "| 2.378611 | United States |\n",
       "\n"
      ],
      "text/plain": [
       "  race.time country      \n",
       "1 2.333056  Ethiopia     \n",
       "2 2.345278  Kenya        \n",
       "3 2.362500  Germany      \n",
       "4 2.364444  Kenya        \n",
       "5 2.376667  Kenya        \n",
       "6 2.378611  United States"
      ]
     },
     "metadata": {},
     "output_type": "display_data"
    }
   ],
   "source": [
    "df.marathon %>%\n",
    "     filter(MF == \"Women's\") %>%\n",
    "     select(race.time, country) %>%\n",
    "     arrange(race.time)%>%\n",
    "     head"
   ]
  },
  {
   "cell_type": "markdown",
   "metadata": {},
   "source": [
    "The best woman's race time is 2.333056."
   ]
  },
  {
   "cell_type": "markdown",
   "metadata": {},
   "source": [
    "What's the best race time ever for a US man?"
   ]
  },
  {
   "cell_type": "code",
   "execution_count": 35,
   "metadata": {},
   "outputs": [
    {
     "data": {
      "text/html": [
       "<table>\n",
       "<caption>A data.frame: 6 × 2</caption>\n",
       "<thead>\n",
       "\t<tr><th scope=col>race.time</th><th scope=col>country</th></tr>\n",
       "\t<tr><th scope=col>&lt;dbl&gt;</th><th scope=col>&lt;fct&gt;</th></tr>\n",
       "</thead>\n",
       "<tbody>\n",
       "\t<tr><td>2.143611</td><td>United States</td></tr>\n",
       "\t<tr><td>2.147778</td><td>United States</td></tr>\n",
       "\t<tr><td>2.150000</td><td>United States</td></tr>\n",
       "\t<tr><td>2.157500</td><td>United States</td></tr>\n",
       "\t<tr><td>2.165278</td><td>United States</td></tr>\n",
       "\t<tr><td>2.170278</td><td>United States</td></tr>\n",
       "</tbody>\n",
       "</table>\n"
      ],
      "text/latex": [
       "A data.frame: 6 × 2\n",
       "\\begin{tabular}{r|ll}\n",
       " race.time & country\\\\\n",
       " <dbl> & <fct>\\\\\n",
       "\\hline\n",
       "\t 2.143611 & United States\\\\\n",
       "\t 2.147778 & United States\\\\\n",
       "\t 2.150000 & United States\\\\\n",
       "\t 2.157500 & United States\\\\\n",
       "\t 2.165278 & United States\\\\\n",
       "\t 2.170278 & United States\\\\\n",
       "\\end{tabular}\n"
      ],
      "text/markdown": [
       "\n",
       "A data.frame: 6 × 2\n",
       "\n",
       "| race.time &lt;dbl&gt; | country &lt;fct&gt; |\n",
       "|---|---|\n",
       "| 2.143611 | United States |\n",
       "| 2.147778 | United States |\n",
       "| 2.150000 | United States |\n",
       "| 2.157500 | United States |\n",
       "| 2.165278 | United States |\n",
       "| 2.170278 | United States |\n",
       "\n"
      ],
      "text/plain": [
       "  race.time country      \n",
       "1 2.143611  United States\n",
       "2 2.147778  United States\n",
       "3 2.150000  United States\n",
       "4 2.157500  United States\n",
       "5 2.165278  United States\n",
       "6 2.170278  United States"
      ]
     },
     "metadata": {},
     "output_type": "display_data"
    }
   ],
   "source": [
    "df.marathon %>%\n",
    "    filter(MF == \"Men's\", country==\"United States\") %>%\n",
    "    select(race.time, country) %>%\n",
    "    arrange(race.time) %>%\n",
    "    head"
   ]
  },
  {
   "cell_type": "markdown",
   "metadata": {},
   "source": [
    "The best race time ever for a US man is 2.143611."
   ]
  },
  {
   "cell_type": "markdown",
   "metadata": {},
   "source": [
    "How does the best US men's time compare the the best race time in the data overall?"
   ]
  },
  {
   "cell_type": "code",
   "execution_count": 36,
   "metadata": {},
   "outputs": [
    {
     "data": {
      "text/html": [
       "<table>\n",
       "<caption>A data.frame: 6 × 2</caption>\n",
       "<thead>\n",
       "\t<tr><th scope=col>race.time</th><th scope=col>country</th></tr>\n",
       "\t<tr><th scope=col>&lt;dbl&gt;</th><th scope=col>&lt;fct&gt;</th></tr>\n",
       "</thead>\n",
       "<tbody>\n",
       "\t<tr><td>2.050556</td><td>Kenya</td></tr>\n",
       "\t<tr><td>2.097778</td><td>Kenya</td></tr>\n",
       "\t<tr><td>2.120556</td><td>Kenya</td></tr>\n",
       "\t<tr><td>2.120833</td><td>Kenya</td></tr>\n",
       "\t<tr><td>2.126111</td><td>Kenya</td></tr>\n",
       "\t<tr><td>2.129444</td><td>Kenya</td></tr>\n",
       "</tbody>\n",
       "</table>\n"
      ],
      "text/latex": [
       "A data.frame: 6 × 2\n",
       "\\begin{tabular}{r|ll}\n",
       " race.time & country\\\\\n",
       " <dbl> & <fct>\\\\\n",
       "\\hline\n",
       "\t 2.050556 & Kenya\\\\\n",
       "\t 2.097778 & Kenya\\\\\n",
       "\t 2.120556 & Kenya\\\\\n",
       "\t 2.120833 & Kenya\\\\\n",
       "\t 2.126111 & Kenya\\\\\n",
       "\t 2.129444 & Kenya\\\\\n",
       "\\end{tabular}\n"
      ],
      "text/markdown": [
       "\n",
       "A data.frame: 6 × 2\n",
       "\n",
       "| race.time &lt;dbl&gt; | country &lt;fct&gt; |\n",
       "|---|---|\n",
       "| 2.050556 | Kenya |\n",
       "| 2.097778 | Kenya |\n",
       "| 2.120556 | Kenya |\n",
       "| 2.120833 | Kenya |\n",
       "| 2.126111 | Kenya |\n",
       "| 2.129444 | Kenya |\n",
       "\n"
      ],
      "text/plain": [
       "  race.time country\n",
       "1 2.050556  Kenya  \n",
       "2 2.097778  Kenya  \n",
       "3 2.120556  Kenya  \n",
       "4 2.120833  Kenya  \n",
       "5 2.126111  Kenya  \n",
       "6 2.129444  Kenya  "
      ]
     },
     "metadata": {},
     "output_type": "display_data"
    }
   ],
   "source": [
    "df.marathon %>%\n",
    "    select(race.time, country) %>%\n",
    "    arrange(race.time) %>%\n",
    "    head"
   ]
  },
  {
   "cell_type": "markdown",
   "metadata": {},
   "source": [
    "The best US men's time is 2.143611/2.050556 = 1.045 times as the best race time in the data overall."
   ]
  },
  {
   "cell_type": "markdown",
   "metadata": {},
   "source": [
    "# Bonus"
   ]
  },
  {
   "cell_type": "markdown",
   "metadata": {},
   "source": [
    "For all countries with at least 5 winners in the men's category, which country has the best median race time in the men's category? (*Hint: use the `n()` function to count the winners by country.) "
   ]
  },
  {
   "cell_type": "code",
   "execution_count": 30,
   "metadata": {},
   "outputs": [
    {
     "data": {
      "text/html": [
       "<table>\n",
       "<caption>A tibble: 6 × 2</caption>\n",
       "<thead>\n",
       "\t<tr><th scope=col>country</th><th scope=col>median.racetime</th></tr>\n",
       "\t<tr><th scope=col>&lt;fct&gt;</th><th scope=col>&lt;dbl&gt;</th></tr>\n",
       "</thead>\n",
       "<tbody>\n",
       "\t<tr><td>Canada       </td><td>2.503472</td></tr>\n",
       "\t<tr><td>United States</td><td>2.478889</td></tr>\n",
       "\t<tr><td>Finland      </td><td>2.348333</td></tr>\n",
       "\t<tr><td>Japan        </td><td>2.275833</td></tr>\n",
       "\t<tr><td>Ethiopia     </td><td>2.163750</td></tr>\n",
       "\t<tr><td>Kenya        </td><td>2.155139</td></tr>\n",
       "</tbody>\n",
       "</table>\n"
      ],
      "text/latex": [
       "A tibble: 6 × 2\n",
       "\\begin{tabular}{r|ll}\n",
       " country & median.racetime\\\\\n",
       " <fct> & <dbl>\\\\\n",
       "\\hline\n",
       "\t Canada        & 2.503472\\\\\n",
       "\t United States & 2.478889\\\\\n",
       "\t Finland       & 2.348333\\\\\n",
       "\t Japan         & 2.275833\\\\\n",
       "\t Ethiopia      & 2.163750\\\\\n",
       "\t Kenya         & 2.155139\\\\\n",
       "\\end{tabular}\n"
      ],
      "text/markdown": [
       "\n",
       "A tibble: 6 × 2\n",
       "\n",
       "| country &lt;fct&gt; | median.racetime &lt;dbl&gt; |\n",
       "|---|---|\n",
       "| Canada        | 2.503472 |\n",
       "| United States | 2.478889 |\n",
       "| Finland       | 2.348333 |\n",
       "| Japan         | 2.275833 |\n",
       "| Ethiopia      | 2.163750 |\n",
       "| Kenya         | 2.155139 |\n",
       "\n"
      ],
      "text/plain": [
       "  country       median.racetime\n",
       "1 Canada        2.503472       \n",
       "2 United States 2.478889       \n",
       "3 Finland       2.348333       \n",
       "4 Japan         2.275833       \n",
       "5 Ethiopia      2.163750       \n",
       "6 Kenya         2.155139       "
      ]
     },
     "metadata": {},
     "output_type": "display_data"
    }
   ],
   "source": [
    "# This should get you started. It adds a column \"N.winners\" that represents the\n",
    "# total winners from the runner's country.\n",
    "\n",
    "df.marathon %>%\n",
    "    filter(MF == \"Men's\") %>%\n",
    "    group_by(country) %>%\n",
    "    mutate(N.winners = n()) %>% \n",
    "    filter(N.winners >=5) %>%\n",
    "    summarize(median.racetime = median(race.time)) %>%\n",
    "    arrange(desc(median.racetime))"
   ]
  },
  {
   "cell_type": "markdown",
   "metadata": {},
   "source": [
    "Canada has the best median race time in the men's category."
   ]
  }
 ],
 "metadata": {
  "kernelspec": {
   "display_name": "R",
   "language": "R",
   "name": "ir"
  },
  "language_info": {
   "codemirror_mode": "r",
   "file_extension": ".r",
   "mimetype": "text/x-r-source",
   "name": "R",
   "pygments_lexer": "r",
   "version": "3.6.0"
  }
 },
 "nbformat": 4,
 "nbformat_minor": 4
}
